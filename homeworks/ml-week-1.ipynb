{
 "cells": [
  {
   "cell_type": "code",
   "execution_count": 2,
   "metadata": {},
   "outputs": [
    {
     "name": "stdout",
     "output_type": "stream",
     "text": [
      "2.0.3\n"
     ]
    }
   ],
   "source": [
    "import numpy as np\n",
    "import pandas as pd\n",
    "\n",
    "print(pd.__version__)\n",
    "\n",
    "\n",
    "url = \"https://raw.githubusercontent.com/alexeygrigorev/datasets/master/housing.csv\"\n",
    "df = pd.read_csv(url)\n"
   ]
  },
  {
   "cell_type": "code",
   "execution_count": 3,
   "metadata": {},
   "outputs": [
    {
     "name": "stdout",
     "output_type": "stream",
     "text": [
      "Total column present in dataset : 20640\n"
     ]
    }
   ],
   "source": [
    "print(\"Total column present in dataset :\",df.shape[0])"
   ]
  },
  {
   "cell_type": "code",
   "execution_count": 4,
   "metadata": {},
   "outputs": [
    {
     "name": "stdout",
     "output_type": "stream",
     "text": [
      "Missing column in dataset longitude               0\n",
      "latitude                0\n",
      "housing_median_age      0\n",
      "total_rooms             0\n",
      "total_bedrooms        207\n",
      "population              0\n",
      "households              0\n",
      "median_income           0\n",
      "median_house_value      0\n",
      "ocean_proximity         0\n",
      "dtype: int64\n"
     ]
    }
   ],
   "source": [
    "print(\"Missing column in dataset\",df.isnull().sum())"
   ]
  },
  {
   "cell_type": "code",
   "execution_count": 5,
   "metadata": {},
   "outputs": [
    {
     "name": "stdout",
     "output_type": "stream",
     "text": [
      "Uniques values present in ocean_proximity column:  5\n"
     ]
    }
   ],
   "source": [
    "uval = df.ocean_proximity.nunique()\n",
    "print(\"Uniques values present in ocean_proximity column: \", uval)"
   ]
  },
  {
   "cell_type": "code",
   "execution_count": 6,
   "metadata": {},
   "outputs": [
    {
     "name": "stdout",
     "output_type": "stream",
     "text": [
      "259212,is the average value of the median_house_value for the houses located near the bay\n"
     ]
    }
   ],
   "source": [
    "f_df = df[df[\"ocean_proximity\"] == \"NEAR BAY\"]\n",
    "mean_df = f_df[\"median_house_value\"].mean()\n",
    "print(f\"{mean_df:.0f},is the average value of the median_house_value for the houses located near the bay\",\n",
    ")"
   ]
  },
  {
   "cell_type": "code",
   "execution_count": 7,
   "metadata": {},
   "outputs": [
    {
     "name": "stdout",
     "output_type": "stream",
     "text": [
      "537.8705525375618\n",
      "537.8705525375617\n",
      "Not matched\n"
     ]
    }
   ],
   "source": [
    "avg_total_bedrooms_before = df['total_bedrooms'].mean()\n",
    "print(avg_total_bedrooms_before)\n",
    "df['total_bedrooms'].fillna(avg_total_bedrooms_before, inplace=True)\n",
    "avg_total_bedrooms_after = df['total_bedrooms'].mean()\n",
    "print(avg_total_bedrooms_after)\n",
    "\n",
    "print(\"Matched\" if avg_total_bedrooms_before == avg_total_bedrooms_after else \"Not matched\")"
   ]
  },
  {
   "cell_type": "code",
   "execution_count": 8,
   "metadata": {},
   "outputs": [
    {
     "name": "stdout",
     "output_type": "stream",
     "text": [
      "Last element of w: 5.699229455065575\n"
     ]
    }
   ],
   "source": [
    "y = ([950,1300,800,1000,1300])\n",
    "f_islands = df[df['ocean_proximity'] == \"ISLAND\"]\n",
    "f_col = f_islands[['housing_median_age','total_rooms','total_bedrooms']]\n",
    "X = f_col.values\n",
    "XTX = np.matmul(X.T,X)\n",
    "XTX_inv = np.linalg.inv(XTX)\n",
    "x_it = np.matmul(XTX_inv,X.T)\n",
    "w = np.matmul(x_it,y)\n",
    "print(\"Last element of w:\",w[-1])"
   ]
  }
 ],
 "metadata": {
  "kernelspec": {
   "display_name": "Python 3 (ipykernel)",
   "language": "python",
   "name": "python3"
  },
  "language_info": {
   "codemirror_mode": {
    "name": "ipython",
    "version": 3
   },
   "file_extension": ".py",
   "mimetype": "text/x-python",
   "name": "python",
   "nbconvert_exporter": "python",
   "pygments_lexer": "ipython3",
   "version": "3.11.5"
  }
 },
 "nbformat": 4,
 "nbformat_minor": 2
}
